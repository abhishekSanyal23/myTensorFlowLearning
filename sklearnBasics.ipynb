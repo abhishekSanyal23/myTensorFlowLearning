{
 "cells": [
  {
   "cell_type": "markdown",
   "metadata": {},
   "source": [
    "# SciKit Learn Preprocessing"
   ]
  },
  {
   "cell_type": "code",
   "execution_count": 1,
   "metadata": {},
   "outputs": [],
   "source": [
    "import numpy as np\n",
    "import pandas as pd\n",
    "from sklearn.preprocessing import MinMaxScaler\n",
    "from sklearn.model_selection import train_test_split"
   ]
  },
  {
   "cell_type": "code",
   "execution_count": 2,
   "metadata": {},
   "outputs": [],
   "source": [
    "data = np.random.randint(10,200,(10,2))"
   ]
  },
  {
   "cell_type": "code",
   "execution_count": 3,
   "metadata": {},
   "outputs": [
    {
     "name": "stdout",
     "output_type": "stream",
     "text": [
      "[[187  16]\n",
      " [158 151]\n",
      " [183  82]\n",
      " [ 32 178]\n",
      " [ 83 129]\n",
      " [149  96]\n",
      " [196  21]\n",
      " [ 78  40]\n",
      " [ 90 137]\n",
      " [ 49  98]]\n"
     ]
    }
   ],
   "source": [
    "print (data)"
   ]
  },
  {
   "cell_type": "code",
   "execution_count": 4,
   "metadata": {},
   "outputs": [],
   "source": [
    "scaler_model = MinMaxScaler()"
   ]
  },
  {
   "cell_type": "code",
   "execution_count": 5,
   "metadata": {},
   "outputs": [
    {
     "data": {
      "text/plain": [
       "sklearn.preprocessing.data.MinMaxScaler"
      ]
     },
     "execution_count": 5,
     "metadata": {},
     "output_type": "execute_result"
    }
   ],
   "source": [
    "type(scaler_model)"
   ]
  },
  {
   "cell_type": "code",
   "execution_count": 6,
   "metadata": {},
   "outputs": [
    {
     "name": "stderr",
     "output_type": "stream",
     "text": [
      "/home/abhishek/anaconda3/lib/python3.6/site-packages/sklearn/utils/validation.py:475: DataConversionWarning: Data with input dtype int64 was converted to float64 by MinMaxScaler.\n",
      "  warnings.warn(msg, DataConversionWarning)\n"
     ]
    },
    {
     "data": {
      "text/plain": [
       "MinMaxScaler(copy=True, feature_range=(0, 1))"
      ]
     },
     "execution_count": 6,
     "metadata": {},
     "output_type": "execute_result"
    }
   ],
   "source": [
    "scaler_model.fit(data)"
   ]
  },
  {
   "cell_type": "code",
   "execution_count": 7,
   "metadata": {},
   "outputs": [
    {
     "data": {
      "text/plain": [
       "array([[0.94512195, 0.        ],\n",
       "       [0.76829268, 0.83333333],\n",
       "       [0.92073171, 0.40740741],\n",
       "       [0.        , 1.        ],\n",
       "       [0.31097561, 0.69753086],\n",
       "       [0.71341463, 0.49382716],\n",
       "       [1.        , 0.0308642 ],\n",
       "       [0.2804878 , 0.14814815],\n",
       "       [0.35365854, 0.74691358],\n",
       "       [0.10365854, 0.50617284]])"
      ]
     },
     "execution_count": 7,
     "metadata": {},
     "output_type": "execute_result"
    }
   ],
   "source": [
    "scaler_model.transform(data) #Data normalized"
   ]
  },
  {
   "cell_type": "code",
   "execution_count": 8,
   "metadata": {},
   "outputs": [
    {
     "name": "stderr",
     "output_type": "stream",
     "text": [
      "/home/abhishek/anaconda3/lib/python3.6/site-packages/sklearn/utils/validation.py:475: DataConversionWarning: Data with input dtype int64 was converted to float64 by MinMaxScaler.\n",
      "  warnings.warn(msg, DataConversionWarning)\n"
     ]
    },
    {
     "data": {
      "text/plain": [
       "array([[0.94512195, 0.        ],\n",
       "       [0.76829268, 0.83333333],\n",
       "       [0.92073171, 0.40740741],\n",
       "       [0.        , 1.        ],\n",
       "       [0.31097561, 0.69753086],\n",
       "       [0.71341463, 0.49382716],\n",
       "       [1.        , 0.0308642 ],\n",
       "       [0.2804878 , 0.14814815],\n",
       "       [0.35365854, 0.74691358],\n",
       "       [0.10365854, 0.50617284]])"
      ]
     },
     "execution_count": 8,
     "metadata": {},
     "output_type": "execute_result"
    }
   ],
   "source": [
    "scaler_model.fit_transform(data)"
   ]
  },
  {
   "cell_type": "code",
   "execution_count": 9,
   "metadata": {},
   "outputs": [],
   "source": [
    "my_data = np.random.randint(0,1029304,(50,4))"
   ]
  },
  {
   "cell_type": "code",
   "execution_count": 10,
   "metadata": {},
   "outputs": [],
   "source": [
    "data = pd.DataFrame(data = my_data, columns=['f1','f2','f3','label'])"
   ]
  },
  {
   "cell_type": "code",
   "execution_count": 11,
   "metadata": {},
   "outputs": [
    {
     "data": {
      "text/html": [
       "<div>\n",
       "<style scoped>\n",
       "    .dataframe tbody tr th:only-of-type {\n",
       "        vertical-align: middle;\n",
       "    }\n",
       "\n",
       "    .dataframe tbody tr th {\n",
       "        vertical-align: top;\n",
       "    }\n",
       "\n",
       "    .dataframe thead th {\n",
       "        text-align: right;\n",
       "    }\n",
       "</style>\n",
       "<table border=\"1\" class=\"dataframe\">\n",
       "  <thead>\n",
       "    <tr style=\"text-align: right;\">\n",
       "      <th></th>\n",
       "      <th>f1</th>\n",
       "      <th>f2</th>\n",
       "      <th>f3</th>\n",
       "      <th>label</th>\n",
       "    </tr>\n",
       "  </thead>\n",
       "  <tbody>\n",
       "    <tr>\n",
       "      <th>0</th>\n",
       "      <td>860021</td>\n",
       "      <td>800894</td>\n",
       "      <td>208835</td>\n",
       "      <td>183948</td>\n",
       "    </tr>\n",
       "    <tr>\n",
       "      <th>1</th>\n",
       "      <td>31419</td>\n",
       "      <td>1026367</td>\n",
       "      <td>162352</td>\n",
       "      <td>458881</td>\n",
       "    </tr>\n",
       "    <tr>\n",
       "      <th>2</th>\n",
       "      <td>851923</td>\n",
       "      <td>27684</td>\n",
       "      <td>752343</td>\n",
       "      <td>68784</td>\n",
       "    </tr>\n",
       "    <tr>\n",
       "      <th>3</th>\n",
       "      <td>651977</td>\n",
       "      <td>748393</td>\n",
       "      <td>228719</td>\n",
       "      <td>237959</td>\n",
       "    </tr>\n",
       "    <tr>\n",
       "      <th>4</th>\n",
       "      <td>39909</td>\n",
       "      <td>566187</td>\n",
       "      <td>795526</td>\n",
       "      <td>514795</td>\n",
       "    </tr>\n",
       "    <tr>\n",
       "      <th>5</th>\n",
       "      <td>271615</td>\n",
       "      <td>120782</td>\n",
       "      <td>297938</td>\n",
       "      <td>968889</td>\n",
       "    </tr>\n",
       "    <tr>\n",
       "      <th>6</th>\n",
       "      <td>534103</td>\n",
       "      <td>809825</td>\n",
       "      <td>435581</td>\n",
       "      <td>178796</td>\n",
       "    </tr>\n",
       "    <tr>\n",
       "      <th>7</th>\n",
       "      <td>682652</td>\n",
       "      <td>383844</td>\n",
       "      <td>415351</td>\n",
       "      <td>622594</td>\n",
       "    </tr>\n",
       "    <tr>\n",
       "      <th>8</th>\n",
       "      <td>996816</td>\n",
       "      <td>673396</td>\n",
       "      <td>808829</td>\n",
       "      <td>757007</td>\n",
       "    </tr>\n",
       "    <tr>\n",
       "      <th>9</th>\n",
       "      <td>261472</td>\n",
       "      <td>743504</td>\n",
       "      <td>9720</td>\n",
       "      <td>525537</td>\n",
       "    </tr>\n",
       "    <tr>\n",
       "      <th>10</th>\n",
       "      <td>801370</td>\n",
       "      <td>661756</td>\n",
       "      <td>79007</td>\n",
       "      <td>185838</td>\n",
       "    </tr>\n",
       "    <tr>\n",
       "      <th>11</th>\n",
       "      <td>697713</td>\n",
       "      <td>821257</td>\n",
       "      <td>207267</td>\n",
       "      <td>645514</td>\n",
       "    </tr>\n",
       "    <tr>\n",
       "      <th>12</th>\n",
       "      <td>602586</td>\n",
       "      <td>450082</td>\n",
       "      <td>357908</td>\n",
       "      <td>767457</td>\n",
       "    </tr>\n",
       "    <tr>\n",
       "      <th>13</th>\n",
       "      <td>830990</td>\n",
       "      <td>1019015</td>\n",
       "      <td>209522</td>\n",
       "      <td>511576</td>\n",
       "    </tr>\n",
       "    <tr>\n",
       "      <th>14</th>\n",
       "      <td>691432</td>\n",
       "      <td>986670</td>\n",
       "      <td>859271</td>\n",
       "      <td>138540</td>\n",
       "    </tr>\n",
       "    <tr>\n",
       "      <th>15</th>\n",
       "      <td>596792</td>\n",
       "      <td>134637</td>\n",
       "      <td>163603</td>\n",
       "      <td>37371</td>\n",
       "    </tr>\n",
       "    <tr>\n",
       "      <th>16</th>\n",
       "      <td>236344</td>\n",
       "      <td>260072</td>\n",
       "      <td>33472</td>\n",
       "      <td>129950</td>\n",
       "    </tr>\n",
       "    <tr>\n",
       "      <th>17</th>\n",
       "      <td>996726</td>\n",
       "      <td>594310</td>\n",
       "      <td>558530</td>\n",
       "      <td>213625</td>\n",
       "    </tr>\n",
       "    <tr>\n",
       "      <th>18</th>\n",
       "      <td>572344</td>\n",
       "      <td>21620</td>\n",
       "      <td>511085</td>\n",
       "      <td>82496</td>\n",
       "    </tr>\n",
       "    <tr>\n",
       "      <th>19</th>\n",
       "      <td>2074</td>\n",
       "      <td>765970</td>\n",
       "      <td>639759</td>\n",
       "      <td>619952</td>\n",
       "    </tr>\n",
       "    <tr>\n",
       "      <th>20</th>\n",
       "      <td>247290</td>\n",
       "      <td>63807</td>\n",
       "      <td>994111</td>\n",
       "      <td>768993</td>\n",
       "    </tr>\n",
       "    <tr>\n",
       "      <th>21</th>\n",
       "      <td>722134</td>\n",
       "      <td>820881</td>\n",
       "      <td>823729</td>\n",
       "      <td>88729</td>\n",
       "    </tr>\n",
       "    <tr>\n",
       "      <th>22</th>\n",
       "      <td>444333</td>\n",
       "      <td>635562</td>\n",
       "      <td>174284</td>\n",
       "      <td>22260</td>\n",
       "    </tr>\n",
       "    <tr>\n",
       "      <th>23</th>\n",
       "      <td>913692</td>\n",
       "      <td>883875</td>\n",
       "      <td>877837</td>\n",
       "      <td>986571</td>\n",
       "    </tr>\n",
       "    <tr>\n",
       "      <th>24</th>\n",
       "      <td>24198</td>\n",
       "      <td>285498</td>\n",
       "      <td>999665</td>\n",
       "      <td>224849</td>\n",
       "    </tr>\n",
       "    <tr>\n",
       "      <th>25</th>\n",
       "      <td>309198</td>\n",
       "      <td>903663</td>\n",
       "      <td>901616</td>\n",
       "      <td>377558</td>\n",
       "    </tr>\n",
       "    <tr>\n",
       "      <th>26</th>\n",
       "      <td>621220</td>\n",
       "      <td>980764</td>\n",
       "      <td>674619</td>\n",
       "      <td>116724</td>\n",
       "    </tr>\n",
       "    <tr>\n",
       "      <th>27</th>\n",
       "      <td>374255</td>\n",
       "      <td>413034</td>\n",
       "      <td>966797</td>\n",
       "      <td>600245</td>\n",
       "    </tr>\n",
       "    <tr>\n",
       "      <th>28</th>\n",
       "      <td>839425</td>\n",
       "      <td>550655</td>\n",
       "      <td>550872</td>\n",
       "      <td>98836</td>\n",
       "    </tr>\n",
       "    <tr>\n",
       "      <th>29</th>\n",
       "      <td>957590</td>\n",
       "      <td>607724</td>\n",
       "      <td>800065</td>\n",
       "      <td>601229</td>\n",
       "    </tr>\n",
       "    <tr>\n",
       "      <th>30</th>\n",
       "      <td>84238</td>\n",
       "      <td>295358</td>\n",
       "      <td>419119</td>\n",
       "      <td>506015</td>\n",
       "    </tr>\n",
       "    <tr>\n",
       "      <th>31</th>\n",
       "      <td>407082</td>\n",
       "      <td>322088</td>\n",
       "      <td>645356</td>\n",
       "      <td>383654</td>\n",
       "    </tr>\n",
       "    <tr>\n",
       "      <th>32</th>\n",
       "      <td>387951</td>\n",
       "      <td>721056</td>\n",
       "      <td>467585</td>\n",
       "      <td>437447</td>\n",
       "    </tr>\n",
       "    <tr>\n",
       "      <th>33</th>\n",
       "      <td>821374</td>\n",
       "      <td>447503</td>\n",
       "      <td>593776</td>\n",
       "      <td>562075</td>\n",
       "    </tr>\n",
       "    <tr>\n",
       "      <th>34</th>\n",
       "      <td>990567</td>\n",
       "      <td>751931</td>\n",
       "      <td>321177</td>\n",
       "      <td>116667</td>\n",
       "    </tr>\n",
       "    <tr>\n",
       "      <th>35</th>\n",
       "      <td>220543</td>\n",
       "      <td>797820</td>\n",
       "      <td>108097</td>\n",
       "      <td>128589</td>\n",
       "    </tr>\n",
       "    <tr>\n",
       "      <th>36</th>\n",
       "      <td>703122</td>\n",
       "      <td>637001</td>\n",
       "      <td>846898</td>\n",
       "      <td>286931</td>\n",
       "    </tr>\n",
       "    <tr>\n",
       "      <th>37</th>\n",
       "      <td>829232</td>\n",
       "      <td>711378</td>\n",
       "      <td>554632</td>\n",
       "      <td>374037</td>\n",
       "    </tr>\n",
       "    <tr>\n",
       "      <th>38</th>\n",
       "      <td>73697</td>\n",
       "      <td>416262</td>\n",
       "      <td>115881</td>\n",
       "      <td>471001</td>\n",
       "    </tr>\n",
       "    <tr>\n",
       "      <th>39</th>\n",
       "      <td>944512</td>\n",
       "      <td>760396</td>\n",
       "      <td>770954</td>\n",
       "      <td>120390</td>\n",
       "    </tr>\n",
       "    <tr>\n",
       "      <th>40</th>\n",
       "      <td>362816</td>\n",
       "      <td>63371</td>\n",
       "      <td>1014211</td>\n",
       "      <td>680309</td>\n",
       "    </tr>\n",
       "    <tr>\n",
       "      <th>41</th>\n",
       "      <td>590243</td>\n",
       "      <td>664188</td>\n",
       "      <td>741930</td>\n",
       "      <td>253666</td>\n",
       "    </tr>\n",
       "    <tr>\n",
       "      <th>42</th>\n",
       "      <td>592219</td>\n",
       "      <td>611632</td>\n",
       "      <td>29759</td>\n",
       "      <td>115748</td>\n",
       "    </tr>\n",
       "    <tr>\n",
       "      <th>43</th>\n",
       "      <td>321554</td>\n",
       "      <td>317556</td>\n",
       "      <td>321598</td>\n",
       "      <td>729665</td>\n",
       "    </tr>\n",
       "    <tr>\n",
       "      <th>44</th>\n",
       "      <td>831933</td>\n",
       "      <td>663014</td>\n",
       "      <td>623857</td>\n",
       "      <td>12587</td>\n",
       "    </tr>\n",
       "    <tr>\n",
       "      <th>45</th>\n",
       "      <td>8310</td>\n",
       "      <td>196188</td>\n",
       "      <td>382675</td>\n",
       "      <td>217849</td>\n",
       "    </tr>\n",
       "    <tr>\n",
       "      <th>46</th>\n",
       "      <td>892538</td>\n",
       "      <td>354660</td>\n",
       "      <td>347122</td>\n",
       "      <td>799588</td>\n",
       "    </tr>\n",
       "    <tr>\n",
       "      <th>47</th>\n",
       "      <td>357796</td>\n",
       "      <td>906482</td>\n",
       "      <td>648391</td>\n",
       "      <td>51443</td>\n",
       "    </tr>\n",
       "    <tr>\n",
       "      <th>48</th>\n",
       "      <td>174516</td>\n",
       "      <td>165103</td>\n",
       "      <td>277551</td>\n",
       "      <td>739021</td>\n",
       "    </tr>\n",
       "    <tr>\n",
       "      <th>49</th>\n",
       "      <td>905559</td>\n",
       "      <td>264047</td>\n",
       "      <td>511519</td>\n",
       "      <td>562672</td>\n",
       "    </tr>\n",
       "  </tbody>\n",
       "</table>\n",
       "</div>"
      ],
      "text/plain": [
       "        f1       f2       f3   label\n",
       "0   860021   800894   208835  183948\n",
       "1    31419  1026367   162352  458881\n",
       "2   851923    27684   752343   68784\n",
       "3   651977   748393   228719  237959\n",
       "4    39909   566187   795526  514795\n",
       "5   271615   120782   297938  968889\n",
       "6   534103   809825   435581  178796\n",
       "7   682652   383844   415351  622594\n",
       "8   996816   673396   808829  757007\n",
       "9   261472   743504     9720  525537\n",
       "10  801370   661756    79007  185838\n",
       "11  697713   821257   207267  645514\n",
       "12  602586   450082   357908  767457\n",
       "13  830990  1019015   209522  511576\n",
       "14  691432   986670   859271  138540\n",
       "15  596792   134637   163603   37371\n",
       "16  236344   260072    33472  129950\n",
       "17  996726   594310   558530  213625\n",
       "18  572344    21620   511085   82496\n",
       "19    2074   765970   639759  619952\n",
       "20  247290    63807   994111  768993\n",
       "21  722134   820881   823729   88729\n",
       "22  444333   635562   174284   22260\n",
       "23  913692   883875   877837  986571\n",
       "24   24198   285498   999665  224849\n",
       "25  309198   903663   901616  377558\n",
       "26  621220   980764   674619  116724\n",
       "27  374255   413034   966797  600245\n",
       "28  839425   550655   550872   98836\n",
       "29  957590   607724   800065  601229\n",
       "30   84238   295358   419119  506015\n",
       "31  407082   322088   645356  383654\n",
       "32  387951   721056   467585  437447\n",
       "33  821374   447503   593776  562075\n",
       "34  990567   751931   321177  116667\n",
       "35  220543   797820   108097  128589\n",
       "36  703122   637001   846898  286931\n",
       "37  829232   711378   554632  374037\n",
       "38   73697   416262   115881  471001\n",
       "39  944512   760396   770954  120390\n",
       "40  362816    63371  1014211  680309\n",
       "41  590243   664188   741930  253666\n",
       "42  592219   611632    29759  115748\n",
       "43  321554   317556   321598  729665\n",
       "44  831933   663014   623857   12587\n",
       "45    8310   196188   382675  217849\n",
       "46  892538   354660   347122  799588\n",
       "47  357796   906482   648391   51443\n",
       "48  174516   165103   277551  739021\n",
       "49  905559   264047   511519  562672"
      ]
     },
     "execution_count": 11,
     "metadata": {},
     "output_type": "execute_result"
    }
   ],
   "source": [
    "data"
   ]
  },
  {
   "cell_type": "code",
   "execution_count": 12,
   "metadata": {},
   "outputs": [],
   "source": [
    "X = data[['f1','f2','f3']]\n",
    "Y = data['label']"
   ]
  },
  {
   "cell_type": "code",
   "execution_count": 13,
   "metadata": {},
   "outputs": [],
   "source": [
    "X_train, X_test, Y_train, Y_test = train_test_split(X, Y, test_size = 0.3, random_state = 42)"
   ]
  },
  {
   "cell_type": "code",
   "execution_count": 14,
   "metadata": {},
   "outputs": [
    {
     "data": {
      "text/plain": [
       "(35, 3)"
      ]
     },
     "execution_count": 14,
     "metadata": {},
     "output_type": "execute_result"
    }
   ],
   "source": [
    "X_train.shape"
   ]
  },
  {
   "cell_type": "code",
   "execution_count": 15,
   "metadata": {},
   "outputs": [
    {
     "data": {
      "text/plain": [
       "(15, 3)"
      ]
     },
     "execution_count": 15,
     "metadata": {},
     "output_type": "execute_result"
    }
   ],
   "source": [
    "X_test.shape"
   ]
  },
  {
   "cell_type": "code",
   "execution_count": null,
   "metadata": {},
   "outputs": [],
   "source": []
  }
 ],
 "metadata": {
  "kernelspec": {
   "display_name": "Python 3",
   "language": "python",
   "name": "python3"
  },
  "language_info": {
   "codemirror_mode": {
    "name": "ipython",
    "version": 3
   },
   "file_extension": ".py",
   "mimetype": "text/x-python",
   "name": "python",
   "nbconvert_exporter": "python",
   "pygments_lexer": "ipython3",
   "version": "3.6.5"
  }
 },
 "nbformat": 4,
 "nbformat_minor": 2
}
